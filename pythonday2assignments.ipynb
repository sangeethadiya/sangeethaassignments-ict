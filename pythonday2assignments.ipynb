{
 "cells": [
  {
   "cell_type": "markdown",
   "id": "fb24e400",
   "metadata": {},
   "source": [
    "# 1.prg to accept the details of a student"
   ]
  },
  {
   "cell_type": "code",
   "execution_count": 13,
   "id": "13b31528",
   "metadata": {},
   "outputs": [
    {
     "name": "stdout",
     "output_type": "stream",
     "text": [
      "Enter the name of the student:Ashvi\n",
      "Enter your roll no:23\n",
      "Enter your mark:100\n",
      "Name: Ashvi\n",
      "Roll no: 23\n",
      "Mark: 100\n"
     ]
    }
   ],
   "source": [
    "name   =input(\"Enter the name of the student:\")\n",
    "rollno =input(\"Enter your roll no:\")\n",
    "mark   =input(\"Enter your mark:\")\n",
    "\n",
    "print(\"Name:\",name)\n",
    "print(\"Roll no:\",rollno)\n",
    "print(\"Mark:\",mark)"
   ]
  },
  {
   "cell_type": "markdown",
   "id": "cb7580fc",
   "metadata": {},
   "source": [
    "# 2.Temperature conversions b\\w Fh and degC"
   ]
  },
  {
   "cell_type": "code",
   "execution_count": 17,
   "id": "c2b39e50",
   "metadata": {},
   "outputs": [
    {
     "name": "stdout",
     "output_type": "stream",
     "text": [
      "enter the temperature in fahrenheit:42\n",
      "Temperature in Fahrenheit: 42.0\n",
      "Temperature in Celcius: 5.555555555555555\n"
     ]
    }
   ],
   "source": [
    "f = float(input(\"enter the temperature in fahrenheit:\"))\n",
    "c = 5*(f-32)/9\n",
    "print(\"Temperature in Fahrenheit:\",f)\n",
    "print(\"Temperature in Celcius:\",c)\n"
   ]
  },
  {
   "cell_type": "markdown",
   "id": "1456bbaa",
   "metadata": {},
   "source": [
    "# 3.Multiplication of user entered inputs"
   ]
  },
  {
   "cell_type": "code",
   "execution_count": 18,
   "id": "1958238a",
   "metadata": {},
   "outputs": [
    {
     "name": "stdout",
     "output_type": "stream",
     "text": [
      "enter the first number:10\n",
      "enter the second number:10\n",
      "The Product of the given numbers is: 100\n"
     ]
    }
   ],
   "source": [
    "num1 = int(input(\"enter the first number:\"))\n",
    "num2 = int(input(\"enter the second number:\"))\n",
    "print(\"The Product of the given numbers is:\",num1*num2)"
   ]
  },
  {
   "cell_type": "markdown",
   "id": "82dcfb88",
   "metadata": {},
   "source": [
    "# 4.String Modulation"
   ]
  },
  {
   "cell_type": "code",
   "execution_count": 12,
   "id": "a6c9bf32",
   "metadata": {},
   "outputs": [
    {
     "ename": "TypeError",
     "evalue": "'str' object does not support item assignment",
     "output_type": "error",
     "traceback": [
      "\u001b[1;31m---------------------------------------------------------------------------\u001b[0m",
      "\u001b[1;31mTypeError\u001b[0m                                 Traceback (most recent call last)",
      "\u001b[1;32m~\\AppData\\Local\\Temp\\ipykernel_27960\\3934919023.py\u001b[0m in \u001b[0;36m<module>\u001b[1;34m\u001b[0m\n\u001b[0;32m      3\u001b[0m \u001b[1;31m# print(newstring)\u001b[0m\u001b[1;33m\u001b[0m\u001b[1;33m\u001b[0m\u001b[0m\n\u001b[0;32m      4\u001b[0m \u001b[1;31m# print(len(newstring))\u001b[0m\u001b[1;33m\u001b[0m\u001b[1;33m\u001b[0m\u001b[0m\n\u001b[1;32m----> 5\u001b[1;33m \u001b[0mstring\u001b[0m\u001b[1;33m[\u001b[0m\u001b[1;36m5\u001b[0m\u001b[1;33m]\u001b[0m\u001b[1;33m=\u001b[0m\u001b[1;34m\"**\"\u001b[0m\u001b[1;33m\u001b[0m\u001b[1;33m\u001b[0m\u001b[0m\n\u001b[0m\u001b[0;32m      6\u001b[0m \u001b[0mstring\u001b[0m\u001b[1;33m[\u001b[0m\u001b[1;36m11\u001b[0m\u001b[1;33m]\u001b[0m\u001b[1;33m=\u001b[0m\u001b[1;34m\"**\"\u001b[0m\u001b[1;33m\u001b[0m\u001b[1;33m\u001b[0m\u001b[0m\n\u001b[0;32m      7\u001b[0m \u001b[1;31m# print(newstring)\u001b[0m\u001b[1;33m\u001b[0m\u001b[1;33m\u001b[0m\u001b[0m\n",
      "\u001b[1;31mTypeError\u001b[0m: 'str' object does not support item assignment"
     ]
    }
   ],
   "source": [
    "string = \"Learn Python by developing a Website\"\n",
    "string[5]=\"**\"\n",
    "string[11]=\"**\"\n",
    "print(string)\n",
    "\n",
    "\n"
   ]
  },
  {
   "cell_type": "markdown",
   "id": "ec0b2fb0",
   "metadata": {},
   "source": [
    "# 5.Display the area of the circle"
   ]
  },
  {
   "cell_type": "code",
   "execution_count": 19,
   "id": "ae33c7ca",
   "metadata": {},
   "outputs": [
    {
     "name": "stdout",
     "output_type": "stream",
     "text": [
      "enter the radius of the circle:5\n",
      "The area of the circle is: 78.53981633974483\n"
     ]
    }
   ],
   "source": [
    "import math\n",
    "rad  = float(input(\"enter the radius of the circle:\"))\n",
    "area = math.pi*rad*rad\n",
    "print (\"The area of the circle is:\",area)"
   ]
  },
  {
   "cell_type": "markdown",
   "id": "f96c7d35",
   "metadata": {},
   "source": [
    "# modulation of the list"
   ]
  },
  {
   "cell_type": "code",
   "execution_count": 23,
   "id": "22020b1b",
   "metadata": {},
   "outputs": [
    {
     "name": "stdout",
     "output_type": "stream",
     "text": [
      "[12, 13, 78, 48, 90]\n",
      "enter the value to be inserted:890\n",
      "enter the position:4\n",
      "[12, 13, 78, 48, 890, 90]\n"
     ]
    }
   ],
   "source": [
    "li = [12,13,78,48,90]\n",
    "print(li)\n",
    "value = int(input(\"enter the value to be inserted:\"))\n",
    "pos = int(input(\"enter the position:\"))\n",
    "li.insert(pos,value)\n",
    "print(li)\n"
   ]
  },
  {
   "cell_type": "markdown",
   "id": "c7231de3",
   "metadata": {},
   "source": [
    "# 7.changing dictionary key"
   ]
  },
  {
   "cell_type": "code",
   "execution_count": 34,
   "id": "005c0109",
   "metadata": {},
   "outputs": [
    {
     "name": "stdout",
     "output_type": "stream",
     "text": [
      "{'name': 'John', 'age': 50, 'salary': 10000, 'city': 'Newyork'}\n",
      "John\n"
     ]
    },
    {
     "ename": "KeyError",
     "evalue": "'location'",
     "output_type": "error",
     "traceback": [
      "\u001b[1;31m---------------------------------------------------------------------------\u001b[0m",
      "\u001b[1;31mKeyError\u001b[0m                                  Traceback (most recent call last)",
      "\u001b[1;32m~\\AppData\\Local\\Temp\\ipykernel_45384\\1895113955.py\u001b[0m in \u001b[0;36m<module>\u001b[1;34m\u001b[0m\n\u001b[0;32m      2\u001b[0m \u001b[0mprint\u001b[0m\u001b[1;33m(\u001b[0m\u001b[0msample_dict\u001b[0m\u001b[1;33m)\u001b[0m\u001b[1;33m\u001b[0m\u001b[1;33m\u001b[0m\u001b[0m\n\u001b[0;32m      3\u001b[0m \u001b[0mprint\u001b[0m\u001b[1;33m(\u001b[0m\u001b[0msample_dict\u001b[0m\u001b[1;33m[\u001b[0m\u001b[1;34m\"name\"\u001b[0m\u001b[1;33m]\u001b[0m\u001b[1;33m)\u001b[0m\u001b[1;33m\u001b[0m\u001b[1;33m\u001b[0m\u001b[0m\n\u001b[1;32m----> 4\u001b[1;33m \u001b[0msample_dict\u001b[0m\u001b[1;33m[\u001b[0m\u001b[1;34m\"city\"\u001b[0m\u001b[1;33m]\u001b[0m \u001b[1;33m=\u001b[0m \u001b[0msample_dict\u001b[0m\u001b[1;33m[\u001b[0m\u001b[1;34m\"location\"\u001b[0m\u001b[1;33m]\u001b[0m\u001b[1;33m\u001b[0m\u001b[1;33m\u001b[0m\u001b[0m\n\u001b[0m\u001b[0;32m      5\u001b[0m \u001b[0mprint\u001b[0m\u001b[1;33m(\u001b[0m\u001b[0msample_dict\u001b[0m\u001b[1;33m)\u001b[0m\u001b[1;33m\u001b[0m\u001b[1;33m\u001b[0m\u001b[0m\n",
      "\u001b[1;31mKeyError\u001b[0m: 'location'"
     ]
    }
   ],
   "source": [
    "sample_dict={\"name\":\"John\",\"age\":50,\"salary\":10000,\"city\":\"Newyork\"}\n",
    "print(sample_dict)\n",
    "print(sample_dict[\"name\"])\n",
    "sample_dict[\"city\"] = sample_dict[\"location\"]\n",
    "print(sample_dict)"
   ]
  },
  {
   "cell_type": "markdown",
   "id": "80ffce38",
   "metadata": {},
   "source": [
    "# 8.changing dictionary value"
   ]
  },
  {
   "cell_type": "code",
   "execution_count": 43,
   "id": "803f1d94",
   "metadata": {},
   "outputs": [
    {
     "name": "stdout",
     "output_type": "stream",
     "text": [
      "{'emp1': {'name': 'John', 'salary': 7500}, 'emp2': {'name': 'Emma', 'salary': 8000}, 'emp3': {'name': 'Brad', 'salary': 8500}}\n"
     ]
    }
   ],
   "source": [
    "sample_dict={'emp1':{'name':'John','salary':7500},\n",
    "             'emp2':{'name':'Emma','salary':8000},\n",
    "            'emp3':{'name':'Brad','salary':500}}\n",
    "sample_dict['emp3']['salary']=8500\n",
    "print(sample_dict)"
   ]
  },
  {
   "cell_type": "markdown",
   "id": "1181cb87",
   "metadata": {},
   "source": [
    "# 9.copy elements from a tuple"
   ]
  },
  {
   "cell_type": "code",
   "execution_count": 50,
   "id": "9b9a7a89",
   "metadata": {},
   "outputs": [
    {
     "name": "stdout",
     "output_type": "stream",
     "text": [
      "<class 'tuple'>\n",
      "tuple2=  (43, 54)\n"
     ]
    }
   ],
   "source": [
    "tuple1=(10,20,43,54,56,68)\n",
    "print(type(tuple1))\n",
    "tuple2=(tuple1[2],tuple1[3])\n",
    "print(\"tuple2= \",tuple2)\n"
   ]
  },
  {
   "cell_type": "markdown",
   "id": "536e372e",
   "metadata": {},
   "source": [
    "# 10.count the no: of occurrences inside tuple"
   ]
  },
  {
   "cell_type": "code",
   "execution_count": 51,
   "id": "9b5273f2",
   "metadata": {},
   "outputs": [
    {
     "data": {
      "text/plain": [
       "3"
      ]
     },
     "execution_count": 51,
     "metadata": {},
     "output_type": "execute_result"
    }
   ],
   "source": [
    "tup=(50,10,60,70,50,83,567,50,81)\n",
    "tup.count(50)"
   ]
  }
 ],
 "metadata": {
  "kernelspec": {
   "display_name": "Python 3 (ipykernel)",
   "language": "python",
   "name": "python3"
  },
  "language_info": {
   "codemirror_mode": {
    "name": "ipython",
    "version": 3
   },
   "file_extension": ".py",
   "mimetype": "text/x-python",
   "name": "python",
   "nbconvert_exporter": "python",
   "pygments_lexer": "ipython3",
   "version": "3.9.13"
  }
 },
 "nbformat": 4,
 "nbformat_minor": 5
}
